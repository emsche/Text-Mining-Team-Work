{
 "cells": [
  {
   "cell_type": "code",
   "execution_count": 102,
   "metadata": {},
   "outputs": [],
   "source": [
    "import json\n",
    "import torch\n",
    "from sentence_transformers import SentenceTransformer, util\n",
    "model = SentenceTransformer('nq-distilbert-base-v1')\n",
    "\n",
    "taglist = []\n",
    "questionlist = []\n",
    "answerdict = {}\n",
    "\n",
    "with open('intents.json', encoding='utf-8-sig') as file:\n",
    "    data = json.load(file)\n",
    "    for qanda in data['intents']:\n",
    "        taglist.append(qanda['tag'])\n",
    "        for q in qanda['questions']:\n",
    "            questionlist.append((qanda['tag'], q))\n",
    "        for a in qanda['answers']:\n",
    "            answerdict.update({qanda['tag']: a})"
   ]
  },
  {
   "cell_type": "code",
   "execution_count": 103,
   "metadata": {},
   "outputs": [],
   "source": [
    "questionembeddinglist = [(tagandquestion[0], model.encode(tagandquestion[1])) for tagandquestion in questionlist]\n",
    "\n",
    "def retrievesimilarities(query):\n",
    "    similarities = []\n",
    "    queryembedding = model.encode(query)\n",
    "    for tagquestiontup in questionembeddinglist:\n",
    "        similarities.append((util.pytorch_cos_sim(queryembedding, tagquestiontup[1]).item(), tagquestiontup[0]))\n",
    "    return(max(similarities))   "
   ]
  },
  {
   "cell_type": "code",
   "execution_count": 106,
   "metadata": {},
   "outputs": [],
   "source": [
    "def findanswer(query):\n",
    "    similaritytagtup = retrievesimilarities(query)\n",
    "    tag = similaritytagtup[1]\n",
    "    print(answerdict[tag])"
   ]
  },
  {
   "cell_type": "code",
   "execution_count": 123,
   "metadata": {},
   "outputs": [
    {
     "name": "stdout",
     "output_type": "stream",
     "text": [
      "It’s easy to underestimate the amount of alcohol you consume daily or weekly. Especially in the setting of consistent drinking, it can also be hard to gauge whether you’ve developed significant physical dependence until attempts are made to cut back or quit. Others can judge your consumption more accurately, consider asking a friend or professional.\n"
     ]
    }
   ],
   "source": [
    "findanswer('how much does an alcoholic drink?')"
   ]
  }
 ],
 "metadata": {
  "kernelspec": {
   "display_name": "Python 3",
   "language": "python",
   "name": "python3"
  },
  "language_info": {
   "codemirror_mode": {
    "name": "ipython",
    "version": 3
   },
   "file_extension": ".py",
   "mimetype": "text/x-python",
   "name": "python",
   "nbconvert_exporter": "python",
   "pygments_lexer": "ipython3",
   "version": "3.8.5"
  }
 },
 "nbformat": 4,
 "nbformat_minor": 4
}
