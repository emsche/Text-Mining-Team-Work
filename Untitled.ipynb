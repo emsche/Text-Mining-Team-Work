{
 "cells": [
  {
   "cell_type": "code",
   "execution_count": 1,
   "metadata": {},
   "outputs": [],
   "source": [
    "from nltk.stem.snowball import SnowballStemmer\n",
    "from torchtext.data import get_tokenizer\n",
    "from sklearn.feature_extraction.text import CountVectorizer\n",
    "stemmer = SnowballStemmer(\"english\")\n",
    "tokenizer = get_tokenizer(\"basic_english\")\n",
    "cv = CountVectorizer()\n",
    "\n",
    "def stem_tkn(text):\n",
    "    return [stemmer.stem(w) for w in tokenizer(tweet)]\n",
    "\n",
    "def bow(input_text, corpus_text):\n",
    "    cv.fit_transform(corpus_text)\n",
    "    X = cv.transform(input_text).toarray()\n",
    "    return X\n",
    "\n",
    "#bag of words - needed or not?\n",
    "#testing:\n",
    "#corpus = ['This is the first document.',\n",
    "          #'This is the second second document.', \n",
    "          #'And the third one.', 'Is this the first document?']"
   ]
  },
  {
   "cell_type": "code",
   "execution_count": 2,
   "metadata": {},
   "outputs": [],
   "source": [
    "from sklearn.feature_extraction.text import TfidfVectorizer\n",
    "from sklearn.linear_model import LogisticRegression\n",
    "from sklearn.pipeline import Pipeline\n",
    "\n",
    "baseline_vectorizer = TfidfVectorizer(tokenizer=stem_tkn)\n",
    "baseline_model = neural_model\n",
    "baseline_pipeline = Pipeline(steps=[\n",
    "    ('vectorizer', baseline_vectorizer),\n",
    "    ('model', baseline_model)\n",
    "])"
   ]
  },
  {
   "cell_type": "code",
   "execution_count": null,
   "metadata": {},
   "outputs": [],
   "source": [
    "import json\n",
    "  \n",
    "f = open('intents.json',)\n",
    "\n",
    "data = json.load(f)\n",
    "\n",
    "X = []\n",
    "y = []\n",
    "\n",
    "for i in data['intents']:\n",
    "    X.append(data['patterns'])\n",
    "    y.append(data['responses'])\n",
    "\n",
    "    \n",
    "#f.close()"
   ]
  },
  {
   "cell_type": "code",
   "execution_count": null,
   "metadata": {},
   "outputs": [],
   "source": [
    "from sklearn.model_selection import train_test_split\n",
    "\n",
    "\n",
    "X_train, X_val, y_train, y_val = train_test_split(X, y, train_size=0.85, stratify=y)"
   ]
  },
  {
   "cell_type": "code",
   "execution_count": null,
   "metadata": {},
   "outputs": [],
   "source": [
    "class NeuralNetwork(nn.Module):\n",
    "    def __init__(self):\n",
    "        super(NeuralNetwork, self).__init__()\n",
    "        self.flatten = nn.Flatten()\n",
    "        self.linear_relu_stack = nn.Sequential(\n",
    "            nn.Linear(28*28, 512),\n",
    "            nn.ReLU(),\n",
    "            nn.Linear(512, 512),\n",
    "            nn.ReLU(),\n",
    "            nn.Linear(512, 10),\n",
    "            nn.ReLU()\n",
    "        )\n",
    "\n",
    "    def forward(self, x):\n",
    "        x = self.flatten(x)\n",
    "        logits = self.linear_relu_stack(x)\n",
    "        return logits"
   ]
  }
 ],
 "metadata": {
  "kernelspec": {
   "display_name": "Python 3",
   "language": "python",
   "name": "python3"
  },
  "language_info": {
   "codemirror_mode": {
    "name": "ipython",
    "version": 3
   },
   "file_extension": ".py",
   "mimetype": "text/x-python",
   "name": "python",
   "nbconvert_exporter": "python",
   "pygments_lexer": "ipython3",
   "version": "3.7.4"
  }
 },
 "nbformat": 4,
 "nbformat_minor": 2
}
