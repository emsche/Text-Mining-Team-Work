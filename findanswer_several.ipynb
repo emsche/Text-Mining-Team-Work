{
 "cells": [
  {
   "cell_type": "code",
   "execution_count": 156,
   "metadata": {},
   "outputs": [],
   "source": [
    "import json\n",
    "import torch\n",
    "from sentence_transformers import SentenceTransformer, util\n",
    "model = SentenceTransformer('nq-distilbert-base-v1')\n",
    "\n",
    "taglist = []\n",
    "questionlist = []\n",
    "answerdict = {}\n",
    "\n",
    "with open('intents_several.json', encoding='utf-8-sig') as file:\n",
    "    data = json.load(file)\n",
    "    for qanda in data['intents']:\n",
    "        taglist.append(qanda['tag'])\n",
    "        for q in qanda['questions']:\n",
    "            questionlist.append((qanda['tag'], q))\n",
    "        for a in qanda['answers']:\n",
    "            answerdict.update({qanda['tag']: a})"
   ]
  },
  {
   "cell_type": "code",
   "execution_count": 157,
   "metadata": {},
   "outputs": [],
   "source": [
    "questionembeddinglist = [(tagandquestion[0], model.encode(tagandquestion[1])) for tagandquestion in questionlist]\n",
    "\n",
    "def retrievesimilarities(query):\n",
    "    similarities = []\n",
    "    queryembedding = model.encode(query)\n",
    "    for tagquestiontup in questionembeddinglist:\n",
    "        similarities.append((util.pytorch_cos_sim(queryembedding, tagquestiontup[1]).item(), tagquestiontup[0]))\n",
    "    return(max(similarities))   "
   ]
  },
  {
   "cell_type": "code",
   "execution_count": 163,
   "metadata": {},
   "outputs": [],
   "source": [
    "def findanswer(query):\n",
    "    similaritytagtup = retrievesimilarities(query)\n",
    "    tag = similaritytagtup[1]\n",
    "    return answerdict[tag]"
   ]
  },
  {
   "cell_type": "code",
   "execution_count": 165,
   "metadata": {},
   "outputs": [
    {
     "name": "stdout",
     "output_type": "stream",
     "text": [
      "The bot found the fitting answer for 90.47619047619048 % of the test queries.\n"
     ]
    }
   ],
   "source": [
    "#evaluation\n",
    "table = []\n",
    "\n",
    "with open('intents_test.json', encoding='utf-8-sig') as testfile:\n",
    "    testdata = json.load(testfile)\n",
    "    for qanda in testdata['intents']:\n",
    "        liste = []\n",
    "        query = qanda['questions'][0]\n",
    "        liste.append(query)\n",
    "        predictedanswer = str(findanswer(qanda['questions'][0]))\n",
    "        liste.append(predictedanswer)\n",
    "        realanswer = qanda['answers'][0]\n",
    "        liste.append(realanswer)\n",
    "        table.append(liste)\n",
    "\n",
    "matches = 0\n",
    "fails = 0\n",
    "for row in table: \n",
    "    if row[1] == row[2]:\n",
    "        matches += 1\n",
    "    else: \n",
    "        fails += 1\n",
    "        \n",
    "success = 100 - (fails/(fails+matches))*100\n",
    "print('The bot found the fitting answer for', success, '% of the test queries.')"
   ]
  },
  {
   "cell_type": "code",
   "execution_count": 170,
   "metadata": {},
   "outputs": [
    {
     "name": "stdout",
     "output_type": "stream",
     "text": [
      "Ask me anything about alcohol addiction! Type \"quit\" to exit\n",
      "You: hi there\n",
      "\n",
      "Bot: Hi, how can I help? \n",
      "\n",
      "You: i am looking for online courses to stop drinking\n",
      "\n",
      "Bot: Although stopping cold turkey is possible, for those with a severe physical dependence, it is ill-advised to do so, because alcohol’s withdrawal symptoms may include extremely unpleasant and/or dangerous physical and emotional effects that are best managed with the supervision and support of a medical detox program. Research now shows that many people quit entirely on their own without help or treatment. You may be fine to proceed on your own, but there is no harm and shame in reaching out. The symptoms of acute alcohol withdrawal include: Anxiety, cravings, jitteriness and feeling on edge, irritability, depression and trouble feeling pleasure, headache, dizziness, insomnia, fatigue, lethargy, difficulties thinking straight, concentrating, and making decisions, memory issues, nausea, vomiting, diarrhea, dehydration, decreased appetite and possible anorexia, muscle aches, tremors, irregular heart rate and blood pressure, sweating, and more. In case you do proceed on your own, it is necessary to pay close attention to symptoms such as shaking, sweating, extreme nausea, and rapid heartbeat, because there is a risk of withdrawal induced seizures ending fatally. If any of the symptoms you are experiencing proceed from uncomfortable to alarming, then, at the very latest, you should seek medical attention. It’s always a good idea to have accessible a friend or someone objective to help you make a solid judgment call. \n",
      "\n",
      "You: dude where can i find the courses\n",
      "\n",
      "Bot: getting clean by yourself poses some severe risks. The symptoms of alcohol withdrawal range from nausea to seizures, and extreme cases may end fatally. The emotional and physical effects resulting from withdrawal are best managed with professional guidance at a detox facility or clinic. There are many online courses and guidance that you can follow, however: https://www.alcoholenik.nl/, https://www.alcoholondercontrole.nl/, https://minderdrinken.nl/ \n",
      "\n",
      "You: and who can i contact just to talk?\n",
      "\n",
      "Bot: There are many facilities who see themselves as a first port of call for people who seek advice in all things alcohol addiction. I have gathered some here: https://www.alcoholinfo.nl/, https://www.trimbos.nl/, https://www.jellinek.nl/, https://www.alcoholenik.nl/ \n",
      "\n",
      "You: right on, brother, thanks\n",
      "\n",
      "Bot: Any time! Happy to help. \n",
      "\n",
      "You: quit\n"
     ]
    }
   ],
   "source": [
    "#the bot at work, to try it out, run this cell again\n",
    "print('Ask me anything about alcohol addiction! Type \"quit\" to exit')\n",
    "\n",
    "while True: \n",
    "    query = input('You: ')\n",
    "    if query == 'quit':\n",
    "        break\n",
    "    else:\n",
    "        print(f'\\nBot: {findanswer(query)} \\n')"
   ]
  }
 ],
 "metadata": {
  "kernelspec": {
   "display_name": "Python 3",
   "language": "python",
   "name": "python3"
  },
  "language_info": {
   "codemirror_mode": {
    "name": "ipython",
    "version": 3
   },
   "file_extension": ".py",
   "mimetype": "text/x-python",
   "name": "python",
   "nbconvert_exporter": "python",
   "pygments_lexer": "ipython3",
   "version": "3.8.5"
  }
 },
 "nbformat": 4,
 "nbformat_minor": 4
}
