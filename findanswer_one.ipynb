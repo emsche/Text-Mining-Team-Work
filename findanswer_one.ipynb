{
 "cells": [
  {
   "cell_type": "code",
   "execution_count": 2,
   "metadata": {},
   "outputs": [],
   "source": [
    "import json\n",
    "import torch\n",
    "from sentence_transformers import SentenceTransformer, util\n",
    "model = SentenceTransformer('nq-distilbert-base-v1')\n",
    "\n",
    "taglist = []\n",
    "questionlist = []\n",
    "answerdict = {}\n",
    "\n",
    "with open('intents_one.json', encoding='utf-8-sig') as file:\n",
    "    data = json.load(file)\n",
    "    for qanda in data['intents']:\n",
    "        taglist.append(qanda['tag'])\n",
    "        for q in qanda['questions']:\n",
    "            questionlist.append((qanda['tag'], q))\n",
    "        for a in qanda['answers']:\n",
    "            answerdict.update({qanda['tag']: a})"
   ]
  },
  {
   "cell_type": "code",
   "execution_count": 3,
   "metadata": {},
   "outputs": [],
   "source": [
    "questionembeddinglist = [(tagandquestion[0], model.encode(tagandquestion[1])) for tagandquestion in questionlist]\n",
    "\n",
    "def retrievesimilarities(query):\n",
    "    similarities = []\n",
    "    queryembedding = model.encode(query)\n",
    "    for tagquestiontup in questionembeddinglist:\n",
    "        similarities.append((util.pytorch_cos_sim(queryembedding, tagquestiontup[1]).item(), tagquestiontup[0]))\n",
    "    return(max(similarities))  "
   ]
  },
  {
   "cell_type": "code",
   "execution_count": 11,
   "metadata": {},
   "outputs": [],
   "source": [
    "def findanswer(query):\n",
    "    similaritytagtup = retrievesimilarities(query)\n",
    "    tag = similaritytagtup[1]\n",
    "    return answerdict[tag]"
   ]
  },
  {
   "cell_type": "code",
   "execution_count": 20,
   "metadata": {},
   "outputs": [
    {
     "name": "stdout",
     "output_type": "stream",
     "text": [
      "The bot found the fitting answer for 76.19047619047619 % of the test queries.\n"
     ]
    }
   ],
   "source": [
    "#evaluation\n",
    "table = []\n",
    "\n",
    "with open('intents_test.json', encoding='utf-8-sig') as testfile:\n",
    "    testdata = json.load(testfile)\n",
    "    for qanda in testdata['intents']:\n",
    "        liste = []\n",
    "        query = qanda['questions'][0]\n",
    "        liste.append(query)\n",
    "        predictedanswer = str(findanswer(qanda['questions'][0]))\n",
    "        liste.append(predictedanswer)\n",
    "        realanswer = qanda['answers'][0]\n",
    "        liste.append(realanswer)\n",
    "        table.append(liste)\n",
    "\n",
    "matches = 0\n",
    "fails = 0\n",
    "for row in table: \n",
    "    if row[1] == row[2]:\n",
    "        matches += 1\n",
    "    else: \n",
    "        fails += 1\n",
    "\n",
    "success = 100 - (fails/(fails+matches))*100\n",
    "print('The bot found the fitting answer for', success, '% of the test queries.')"
   ]
  },
  {
   "cell_type": "code",
   "execution_count": 33,
   "metadata": {
    "scrolled": false
   },
   "outputs": [
    {
     "name": "stdout",
     "output_type": "stream",
     "text": [
      "Ask me anything about alcohol addiction! Type \"quit\" to exit\n",
      "You: hey\n",
      "\n",
      "Bot: Hi, how can I help?\n",
      "\n",
      "You: i am not sure if i have a drinking problem or not\n",
      "\n",
      "Bot: The level of how much alcohol is too much varies from person to person and situation to situation. How severly alcohol is adversely affecting one's life can also vary over one's lifetime. One way to make this assessment is to consult with someone one is close to, perhaps friend or family member, or of course professionals are there for this reason. They can be more objective about one's alcohol use and its consequences. Note that it’s easy to underestimate the amount of alcohol one consumes daily or weekly. Especially in the setting of consistent drinking, it can also be hard to gauge whether one has developed significant physical dependence until attempts are made to cut back or quit. Others can judge one's consumption more accurately. Signs of addiction include: loss of control, exceeding the limits you’ve set for yourself, drinking more often than you were planning to, finding yourself fantasising about or planning drinking activities too often, getting into problems or violating social, behavioural or health norms, feeling withdrawal symptoms if you must do without. There is an online test here (https://www.jellinek.nl/english/addicted/) that can help decide whether one is taking to many risks, and that will give you some recommendations depending on one's alcohol consumption.\n",
      "\n",
      "You: oh, but i am still functioning well in life\n",
      "\n",
      "Bot: Although some individuals who regularly abuse alcohol may not meet the full DSM-5 criteria to be diagnosed with an alcohol use disorder, they may still show signs of problematic drinking behaviors. Even people who do meet criteria for AUD may continue to function surprisingly well in their lives up to a point. But a a so-called functional alcoholic may be even more likely to deny that an issue exists and be less likely to seek help for alcohol abuse.\n",
      "\n",
      "You: well, can you just give me some advice?\n",
      "\n",
      "Bot: There are many facilities who see themselves as a first port of call for people who seek advice in all things alcohol addiction. I have gathered some here: https://www.alcoholinfo.nl/, https://www.trimbos.nl/, https://www.jellinek.nl/, https://www.alcoholenik.nl/\n",
      "\n",
      "You: okay, i'll try that\n",
      "\n",
      "Bot: There are many facilities who see themselves as a first port of call for people who seek advice in all things alcohol addiction. I have gathered some here: https://www.alcoholinfo.nl/, https://www.trimbos.nl/, https://www.jellinek.nl/, https://www.alcoholenik.nl/\n",
      "\n",
      "You: i said i'll try that thank you very much\n",
      "\n",
      "Bot: Any time! Happy to help.\n",
      "\n",
      "You: quit\n"
     ]
    }
   ],
   "source": [
    "#the bot at work, to try it out, run this cell again\n",
    "print('Ask me anything about alcohol addiction! Type \"quit\" to exit')\n",
    "\n",
    "while True: \n",
    "    query = input('You: ')\n",
    "    if query == 'quit':\n",
    "        break\n",
    "    else:\n",
    "        print(f'\\nBot: {findanswer(query)}\\n')"
   ]
  }
 ],
 "metadata": {
  "kernelspec": {
   "display_name": "Python 3",
   "language": "python",
   "name": "python3"
  },
  "language_info": {
   "codemirror_mode": {
    "name": "ipython",
    "version": 3
   },
   "file_extension": ".py",
   "mimetype": "text/x-python",
   "name": "python",
   "nbconvert_exporter": "python",
   "pygments_lexer": "ipython3",
   "version": "3.8.5"
  }
 },
 "nbformat": 4,
 "nbformat_minor": 4
}
